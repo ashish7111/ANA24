{
 "cells": [
  {
   "cell_type": "raw",
   "id": "24c1086f-04a4-4d2e-bab3-84e384b320f7",
   "metadata": {},
   "source": [
    "Numpy is a python library that deals with n dimentional arrays. It is mostly used for scientific compuitng using python.\n",
    "It deals with homogeneous datatypes, mostly numbers. The main advantage of using numpy over the built-in python lists and arrays is the fact that it allows for more complex operations and calculations to be done in an efficient manner.\n",
    "\n",
    ">The size of a numpy array is constant and changing the size will effectively delete the old array and create a new one\n",
    "\n",
    ">And all the data in a numpy array have to be of the same datatype \n"
   ]
  },
  {
   "cell_type": "raw",
   "id": "92f29cd2-efa2-434e-91a3-25827a4ca92e",
   "metadata": {},
   "source": [
    "Vectorization\n",
    "\n",
    "Numpy is really faast thanks to vectorization. Vectorization means performing operations on the whole arrays without having to loop through each element.\n",
    "It makes the code more concise and hence less prone to bugs and errors."
   ]
  },
  {
   "cell_type": "code",
   "execution_count": 108,
   "id": "e6d1e5a8-9880-463d-8b7e-bab8a0bb74da",
   "metadata": {},
   "outputs": [
    {
     "name": "stdout",
     "output_type": "stream",
     "text": [
      "[[ 0  1  4]\n",
      " [ 4 16 25]]\n"
     ]
    }
   ],
   "source": [
    "# Defining 2 2D arrays\n",
    "arr1 = np.array([[0,1,2],[2,4,5]])\n",
    "arr2 = np.array([[0,1,2],[2,4,5]])\n",
    "\n",
    "# Multiplying the arrays and printing that\n",
    "arr_multiplied = arr1 * arr2\n",
    "\n",
    "print(arr_multiplied)\n"
   ]
  },
  {
   "cell_type": "code",
   "execution_count": 103,
   "id": "3a12fd01-5313-498e-945b-fd9135b559dd",
   "metadata": {},
   "outputs": [
    {
     "name": "stdout",
     "output_type": "stream",
     "text": [
      "[[3 3]]\n",
      "[  1   2 194]\n"
     ]
    }
   ],
   "source": [
    "\n",
    "import numpy as np\n",
    "\n",
    "arr = np.ndarray(shape = (1,2), dtype=np.int8) \n",
    "\n",
    "arr[0] = 3\n",
    "\n",
    "arr2 = np.array([1,2,4])\n",
    "\n",
    "arr2[2] = 194\n",
    "\n",
    "print(arr)\n",
    "print(arr2)"
   ]
  },
  {
   "cell_type": "code",
   "execution_count": null,
   "id": "f865f017-2972-48e3-8e98-767bb8937549",
   "metadata": {},
   "outputs": [],
   "source": []
  }
 ],
 "metadata": {
  "kernelspec": {
   "display_name": "Python 3 (ipykernel)",
   "language": "python",
   "name": "python3"
  },
  "language_info": {
   "codemirror_mode": {
    "name": "ipython",
    "version": 3
   },
   "file_extension": ".py",
   "mimetype": "text/x-python",
   "name": "python",
   "nbconvert_exporter": "python",
   "pygments_lexer": "ipython3",
   "version": "3.12.7"
  }
 },
 "nbformat": 4,
 "nbformat_minor": 5
}
