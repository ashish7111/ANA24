{
 "cells": [
  {
   "cell_type": "code",
   "execution_count": null,
   "id": "5c84a2c8-2499-4a1d-9574-18ca5ae1f5af",
   "metadata": {},
   "outputs": [],
   "source": []
  }
 ],
 "metadata": {
  "kernelspec": {
   "display_name": "",
   "name": ""
  },
  "language_info": {
   "name": ""
  }
 },
 "nbformat": 4,
 "nbformat_minor": 5
}
