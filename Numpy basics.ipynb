{
 "cells": [
  {
   "cell_type": "code",
   "execution_count": 3,
   "id": "e60a078c-2042-4cde-b462-d39888b11fdc",
   "metadata": {},
   "outputs": [],
   "source": [
    "import numpy as np"
   ]
  },
  {
   "cell_type": "code",
   "execution_count": 27,
   "id": "ac134117-6657-4c10-8367-49f778acf23a",
   "metadata": {},
   "outputs": [
    {
     "name": "stdout",
     "output_type": "stream",
     "text": [
      "Zeros Array:\n",
      " [[0. 0. 0.]\n",
      " [0. 0. 0.]]\n",
      "Ones Array:\n",
      " [[1. 1. 1.]\n",
      " [1. 1. 1.]\n",
      " [1. 1. 1.]]\n",
      "Range Array: [0 2 4 6 8]\n"
     ]
    }
   ],
   "source": [
    "# Creating Arrays\n",
    "\n",
    "# Array of zeros\n",
    "zeros = np.zeros((2, 3))\n",
    "print(\"Zeros Array:\\n\", zeros)\n",
    "\n",
    "# Array of ones\n",
    "ones = np.ones((3, 3))\n",
    "print(\"Ones Array:\\n\", ones)\n",
    "\n",
    "# Array with a range of numbers\n",
    "range_arr = np.arange(0, 10, 2)  # Start, stop, step\n",
    "print(\"Range Array:\", range_arr)\n"
   ]
  },
  {
   "cell_type": "code",
   "execution_count": 25,
   "id": "6e3657b1-0f37-48b5-aef6-90e2bd6e5f15",
   "metadata": {},
   "outputs": [
    {
     "name": "stdout",
     "output_type": "stream",
     "text": [
      "Add 5: [15 28  8  9]\n",
      "Multiply by 2: [20 46  6  8]\n",
      "Squared: [100 529   9  16]\n",
      "Element-wise Addition: [15 29 10 12]\n"
     ]
    }
   ],
   "source": [
    "# Mathematical Operations\n",
    "arr = np.array([10, 23, 3, 4])\n",
    "\n",
    "# Add, multiply, and square elements\n",
    "print(\"Add 5:\", arr + 5)\n",
    "print(\"Multiply by 2:\", arr * 2)\n",
    "print(\"Squared:\", arr ** 2)\n",
    "\n",
    "# Add two arrays\n",
    "arr2 = np.array([5, 6, 7, 8])\n",
    "print(\"Element-wise Addition:\", arr + arr2)\n"
   ]
  },
  {
   "cell_type": "code",
   "execution_count": 21,
   "id": "ec15a47d-a671-4c9a-80ed-44d58fc64081",
   "metadata": {},
   "outputs": [
    {
     "name": "stdout",
     "output_type": "stream",
     "text": [
      "Random Floats:\n",
      " [[0.17314291 0.87514857 0.40727328]\n",
      " [0.70841838 0.20420127 0.6557908 ]]\n",
      "Random Integers:\n",
      " [[38 31 17 14]\n",
      " [43 27 37 15]]\n"
     ]
    }
   ],
   "source": [
    "# Random Number Generation\n",
    "\n",
    "# Random floats between 0 and 1\n",
    "rand_floats = np.random.random((2, 3))\n",
    "print(\"Random Floats:\\n\", rand_floats)\n",
    "\n",
    "# Random integers\n",
    "rand_ints = np.random.randint(1, 50, (2, 4))  \n",
    "print(\"Random Integers:\\n\", rand_ints)\n"
   ]
  },
  {
   "cell_type": "code",
   "execution_count": 19,
   "id": "e535a9f3-79b2-42d9-8a18-ed7898298524",
   "metadata": {},
   "outputs": [
    {
     "name": "stdout",
     "output_type": "stream",
     "text": [
      "Element at row 1, col 2: 31\n",
      "First column: [15 19 17]\n",
      "Subarray (last 2 rows, last 2 cols):\n",
      " [[22 31]\n",
      " [56 29]]\n"
     ]
    }
   ],
   "source": [
    "# Array Indexing and Slicing\n",
    "\n",
    "arr = np.array([[15, 11, 25], [19, 22, 31], [17, 56, 29]])\n",
    "\n",
    "# Accessing a specific element\n",
    "print(\"Element at row 1, col 2:\", arr[1, 2])  # 30\n",
    "\n",
    "# Slicing rows and columns\n",
    "print(\"First column:\", arr[:, 0])  # [5, 20, 35]\n",
    "print(\"Subarray (last 2 rows, last 2 cols):\\n\", arr[1:, 1:])\n"
   ]
  },
  {
   "cell_type": "code",
   "execution_count": 17,
   "id": "60936928-8523-4243-bb50-bb1314dfbdbd",
   "metadata": {},
   "outputs": [
    {
     "name": "stdout",
     "output_type": "stream",
     "text": [
      "Sum: 188\n",
      "Mean: 26.857142857142858\n",
      "Max: 58\n",
      "Standard Deviation: 20.251480167622113\n"
     ]
    }
   ],
   "source": [
    "# Statistical Operations\n",
    "\n",
    "arr = np.array([5, 10, 11, 45, 13, 46, 58])\n",
    "\n",
    "# Calculate common statistics\n",
    "print(\"Sum:\", np.sum(arr))\n",
    "print(\"Mean:\", np.mean(arr))\n",
    "print(\"Max:\", np.max(arr))\n",
    "print(\"Standard Deviation:\", np.std(arr))\n",
    "\n"
   ]
  },
  {
   "cell_type": "code",
   "execution_count": 29,
   "id": "af598462-1d4a-4cb1-8905-b7fd65dcf19b",
   "metadata": {},
   "outputs": [
    {
     "name": "stdout",
     "output_type": "stream",
     "text": [
      "Reshaped to 2x3:\n",
      " [[1 2 3]\n",
      " [4 5 6]]\n",
      "Reshaped to 3x2:\n",
      " [[1 2]\n",
      " [3 4]\n",
      " [5 6]]\n"
     ]
    }
   ],
   "source": [
    "# Reshaping Arrays\n",
    "\n",
    "import numpy as np\n",
    "\n",
    "# Creating a 1D array\n",
    "arr = np.array([1, 2, 3, 4, 5, 6])\n",
    "\n",
    "# Reshaping into a 2x3 array\n",
    "reshaped = arr.reshape((2, 3))\n",
    "print(\"Reshaped to 2x3:\\n\", reshaped)\n",
    "\n",
    "# Reshaping into a 3x2 array\n",
    "reshaped_2 = arr.reshape((3, 2))\n",
    "print(\"Reshaped to 3x2:\\n\", reshaped_2)\n"
   ]
  },
  {
   "cell_type": "code",
   "execution_count": null,
   "id": "cbbf9557-b985-44af-bedf-00cf9d880aeb",
   "metadata": {},
   "outputs": [],
   "source": []
  }
 ],
 "metadata": {
  "kernelspec": {
   "display_name": "Python 3 (ipykernel)",
   "language": "python",
   "name": "python3"
  },
  "language_info": {
   "codemirror_mode": {
    "name": "ipython",
    "version": 3
   },
   "file_extension": ".py",
   "mimetype": "text/x-python",
   "name": "python",
   "nbconvert_exporter": "python",
   "pygments_lexer": "ipython3",
   "version": "3.12.7"
  }
 },
 "nbformat": 4,
 "nbformat_minor": 5
}
